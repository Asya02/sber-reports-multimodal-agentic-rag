{
 "cells": [
  {
   "cell_type": "markdown",
   "id": "ea029ec7-420b-4ca7-b454-68ae406b6221",
   "metadata": {},
   "source": [
    "# Multimodal RAG v1"
   ]
  },
  {
   "cell_type": "code",
   "execution_count": 1,
   "id": "fd306571-3ce5-4b9d-9705-a1bfb0231bd5",
   "metadata": {},
   "outputs": [
    {
     "name": "stderr",
     "output_type": "stream",
     "text": [
      "C:\\Users\\Anastasia\\sber-reports-rag\\venv\\Lib\\site-packages\\tqdm\\auto.py:21: TqdmWarning: IProgress not found. Please update jupyter and ipywidgets. See https://ipywidgets.readthedocs.io/en/stable/user_install.html\n",
      "  from .autonotebook import tqdm as notebook_tqdm\n"
     ]
    }
   ],
   "source": [
    "from langchain.text_splitter import CharacterTextSplitter\n",
    "from unstructured.partition.pdf import partition_pdf"
   ]
  },
  {
   "cell_type": "code",
   "execution_count": 2,
   "id": "d8d416eb-d9f5-4b4c-aefa-6b6bf003c5b1",
   "metadata": {},
   "outputs": [
    {
     "name": "stderr",
     "output_type": "stream",
     "text": [
      "Some weights of the model checkpoint at microsoft/table-transformer-structure-recognition were not used when initializing TableTransformerForObjectDetection: ['model.backbone.conv_encoder.model.layer2.0.downsample.1.num_batches_tracked', 'model.backbone.conv_encoder.model.layer3.0.downsample.1.num_batches_tracked', 'model.backbone.conv_encoder.model.layer4.0.downsample.1.num_batches_tracked']\n",
      "- This IS expected if you are initializing TableTransformerForObjectDetection from the checkpoint of a model trained on another task or with another architecture (e.g. initializing a BertForSequenceClassification model from a BertForPreTraining model).\n",
      "- This IS NOT expected if you are initializing TableTransformerForObjectDetection from the checkpoint of a model that you expect to be exactly identical (initializing a BertForSequenceClassification model from a BertForSequenceClassification model).\n"
     ]
    }
   ],
   "source": [
    "# Функция извлечения элементов из pdf-файла\n",
    "def extract_pdf_elements(path, fname):\n",
    "    \"\"\"\n",
    "    Функция для извлечения различных элементов из PDF-файла, таких как изображения, таблицы,\n",
    "    и текста. Также осуществляется разбиение текста на части (чанки) для дальнейшей обработки.\n",
    "\n",
    "    Аргументы:\n",
    "    path: Строка, содержащая путь к директории, в которую будут сохранены извлеченные изображения.\n",
    "    fname: Строка, содержащая имя PDF-файла, который необходимо обработать.\n",
    "\n",
    "    Возвращает:\n",
    "    Список объектов типа `unstructured.documents.elements`, представляющих извлеченные из PDF элементы.\n",
    "    \"\"\"\n",
    "    return partition_pdf(\n",
    "        filename=path + fname,          # Путь к файлу, который нужно обработать\n",
    "        extract_images_in_pdf=True,     # Указание на то, что из PDF нужно извлечь изображения\n",
    "        infer_table_structure=True,     # Автоматическое определение структуры таблиц в документе\n",
    "        strategy=\"hi_res\", # Ваш код здесь,   # Стратегия разбиения текста на части\n",
    "        max_characters=1024,# Ваш код здесь,            # Максимальное количество символов в одном чанке текста\n",
    "        new_after_n_chars=1024, # Ваш код здесь,         # Число символов, после которого начинается новый чанк текста\n",
    "        combine_text_under_n_chars=512,# Ваш код здесь,# Минимальное количество символов, при котором чанки объединяются\n",
    "        image_output_dir_path=path,     # Путь, куда будут сохраняться извлеченные изображения\n",
    "    )\n",
    "\n",
    "\n",
    "# Функция категоризации элементов\n",
    "def categorize_elements(raw_pdf_elements):\n",
    "    \"\"\"\n",
    "    Функция для категоризации извлеченных элементов из PDF-файла.\n",
    "    Элементы делятся на текстовые элементы и таблицы.\n",
    "\n",
    "    Аргументы:\n",
    "    raw_pdf_elements: Список объектов типа `unstructured.documents.elements`,\n",
    "                      представляющих извлеченные из PDF элементы.\n",
    "\n",
    "    Возвращает:\n",
    "    Два списка: texts (текстовые элементы) и tables (таблицы).\n",
    "    \"\"\"\n",
    "    tables = []  # Список для хранения элементов типа \"таблица\"\n",
    "    texts = []   # Список для хранения текстовых элементов\n",
    "    for element in raw_pdf_elements:\n",
    "        # Проверка типа элемента. Если элемент является таблицей, добавляем его в список таблиц\n",
    "        if \"unstructured.documents.elements.Table\" in str(type(element)):\n",
    "            tables.append(str(element))\n",
    "        # Если элемент является композитным текстовым элементом, добавляем его в список текстов\n",
    "        elif \"unstructured.documents.elements.CompositeElement\" in str(type(element)): # .Text\n",
    "            texts.append(str(element))\n",
    "    return texts, tables  # Возвращаем списки с текстами и таблицами\n",
    "\n",
    "\n",
    "# Указываем путь до директории, где находится PDF-файл\n",
    "fpath = \"../data/raw/\"\n",
    "# Указываем имя PDF-файла, который нужно обработать\n",
    "fname = \"sber10.pdf\"\n",
    "\n",
    "# Извлекаем элементы из PDF-файла с помощью функции extract_pdf_elements\n",
    "raw_pdf_elements = extract_pdf_elements(fpath, fname)\n",
    "\n",
    "# Категоризируем извлеченные элементы на текстовые и табличные с помощью функции categorize_elements\n",
    "texts, tables = categorize_elements(raw_pdf_elements)\n",
    "\n",
    "# Создаем объект CharacterTextSplitter для разбиения текста на части (чанки)\n",
    "text_splitter = CharacterTextSplitter.from_tiktoken_encoder(\n",
    "    chunk_size=512, # Максимальный размер чанка в символах\n",
    "    chunk_overlap=0 # Количество перекрывающихся символов между чанками\n",
    ")\n",
    "\n",
    "# Объединяем все текстовые элементы в одну строку\n",
    "joined_texts = \" \".join(texts)\n",
    "\n",
    "# Разбиваем объединенный текст на чанки, используя созданный CharacterTextSplitter\n",
    "texts_4k_token = text_splitter.split_text(joined_texts)"
   ]
  },
  {
   "cell_type": "code",
   "execution_count": 6,
   "id": "707b1881-6cea-4cc0-9fd5-107d6314c0b8",
   "metadata": {},
   "outputs": [
    {
     "data": {
      "text/plain": [
       "['Отчет по рискам 11 Сбер сегодня 104 Отчет по рискам 12 Культура выполнения ключевых стратегических целей 13 Миссия и ценности 14 Экосистема В2С в 2023 году 15 Экосистема В2В в 2023 году Корпоративное 118 Система корпоративного управления 16 Сеть продаж в 2023 году 124 Общее собрание акционеров управление 17 Технологическое лидерство в 2023 году 126 Наблюдательный совет 18 Искусственный интеллект в 2023 году 134 Комитеты Наблюдательного совета 19 Управление рисками в 2023 году 140 Исполнительные органы. Правление 20 Ключевые финансовые результаты 141 Корпоративный секретарь 21 Долгосрочное видение и Стратегия 2026 141 Система контроля и аудита 144 Комплаенс и внутренний контроль в Сбере в 2023 году 147 Кредитные рейтинги Обзор рынка 147 Акционерный капитал 27 Экосистема В2С 151 Взаимодействие с инвесторами и акционерами 58 Экосистема В2В 155 Крупные сделки 76 Сеть продаж 155 Сделки с заинтере сован ностью 82 Технологическое лидерство 156 Инвестиционная привлекательность Приложения 94 Динамика основных показателей Сбера по МСФО за три года 158 Отчет о соблюдении принципов и рекомендаций Кодекса корпоративного управления Банка России 96 Анализ отчета о прибылях и убытках 177 Обобщенная консолидированная финансовая отчетность 99 Анализ структуры активов 101 Анализ структуры обязательств и собственных средств']"
      ]
     },
     "execution_count": 6,
     "metadata": {},
     "output_type": "execute_result"
    }
   ],
   "source": [
    "tables"
   ]
  },
  {
   "cell_type": "code",
   "execution_count": 7,
   "id": "e70bd4e9-6514-4396-94fb-16069613f4a1",
   "metadata": {},
   "outputs": [
    {
     "data": {
      "text/plain": [
       "[]"
      ]
     },
     "execution_count": 7,
     "metadata": {},
     "output_type": "execute_result"
    }
   ],
   "source": [
    "texts"
   ]
  },
  {
   "cell_type": "code",
   "execution_count": 13,
   "id": "33bdca70-37af-4a28-bf52-efcdab439c19",
   "metadata": {},
   "outputs": [
    {
     "data": {
      "text/plain": [
       "<unstructured.documents.elements.Text at 0x25a5d754f10>"
      ]
     },
     "execution_count": 13,
     "metadata": {},
     "output_type": "execute_result"
    }
   ],
   "source": [
    "raw_pdf_elements[2]"
   ]
  },
  {
   "cell_type": "code",
   "execution_count": 12,
   "id": "54f57929-f4f5-4f99-9371-0eba436da3ae",
   "metadata": {},
   "outputs": [
    {
     "data": {
      "text/plain": [
       "'3 В Отчете освещаются события за 2023 календарный год, за исключением случаев, прямо указанных по тексту.'"
      ]
     },
     "execution_count": 12,
     "metadata": {},
     "output_type": "execute_result"
    }
   ],
   "source": [
    "raw_pdf_elements[2].text"
   ]
  },
  {
   "cell_type": "code",
   "execution_count": null,
   "id": "05b69b57-c868-47a7-bb08-8b9c4e5ef9a9",
   "metadata": {},
   "outputs": [],
   "source": []
  }
 ],
 "metadata": {
  "kernelspec": {
   "display_name": "sber-reports-rag",
   "language": "python",
   "name": "sber-reports-rag"
  },
  "language_info": {
   "codemirror_mode": {
    "name": "ipython",
    "version": 3
   },
   "file_extension": ".py",
   "mimetype": "text/x-python",
   "name": "python",
   "nbconvert_exporter": "python",
   "pygments_lexer": "ipython3",
   "version": "3.11.0"
  }
 },
 "nbformat": 4,
 "nbformat_minor": 5
}
